{
 "cells": [
  {
   "cell_type": "code",
   "execution_count": 1,
   "id": "8f878ce5",
   "metadata": {},
   "outputs": [],
   "source": [
    "import os\n",
    "import shutil"
   ]
  },
  {
   "cell_type": "code",
   "execution_count": 2,
   "id": "a6574471",
   "metadata": {},
   "outputs": [
    {
     "name": "stdout",
     "output_type": "stream",
     "text": [
      "/home/3149796/amplifon/Full model\r\n"
     ]
    }
   ],
   "source": [
    "!pwd"
   ]
  },
  {
   "cell_type": "code",
   "execution_count": 11,
   "id": "34391a6f",
   "metadata": {},
   "outputs": [],
   "source": [
    "path =\"data_yolov5/extra_to_move/trainextra2/images/\"\n",
    "destination = \"/home/3149796/amplifon/Full model/data_yolov5/train/images/\"\n",
    "for i in os.listdir(path):\n",
    "    shutil.copy(path+i, destination)"
   ]
  },
  {
   "cell_type": "code",
   "execution_count": 12,
   "id": "fc2281e2",
   "metadata": {},
   "outputs": [],
   "source": [
    "path =\"data_yolov5/extra_to_move/testextra2/images/\"\n",
    "destination = \"data_yolov5/test/images/\"\n",
    "for i in os.listdir(path):\n",
    "    shutil.move(path+i, destination)"
   ]
  },
  {
   "cell_type": "code",
   "execution_count": 13,
   "id": "1146ae84",
   "metadata": {},
   "outputs": [],
   "source": [
    "path =\"data_yolov5/extra_to_move/valextra2/images/\"\n",
    "destination = \"data_yolov5/val/images/\"\n",
    "for i in os.listdir(path):\n",
    "    shutil.move(path+i, destination)"
   ]
  },
  {
   "cell_type": "code",
   "execution_count": 14,
   "id": "007449bc",
   "metadata": {},
   "outputs": [],
   "source": [
    "path =\"data_yolov5/extra_to_move/testextra2/labels/\"\n",
    "destination = \"data_yolov5/test/labels/\"\n",
    "for i in os.listdir(path):\n",
    "    shutil.move(path+i, destination)"
   ]
  },
  {
   "cell_type": "code",
   "execution_count": 15,
   "id": "95c4486a",
   "metadata": {},
   "outputs": [],
   "source": [
    "path =\"data_yolov5/extra_to_move/valextra2/labels/\"\n",
    "destination = \"data_yolov5/val/labels/\"\n",
    "for i in os.listdir(path):\n",
    "    shutil.move(path+i, destination)"
   ]
  },
  {
   "cell_type": "code",
   "execution_count": 16,
   "id": "1f88d904",
   "metadata": {},
   "outputs": [],
   "source": [
    "path =\"data_yolov5/extra_to_move/trainextra2/labels/\"\n",
    "destination = \"data_yolov5/train/labels/\"\n",
    "for i in os.listdir(path):\n",
    "    shutil.move(path+i, destination)"
   ]
  },
  {
   "cell_type": "code",
   "execution_count": null,
   "id": "6742ea9d",
   "metadata": {},
   "outputs": [],
   "source": []
  }
 ],
 "metadata": {
  "kernelspec": {
   "display_name": "Python 3",
   "language": "python",
   "name": "python3"
  },
  "language_info": {
   "codemirror_mode": {
    "name": "ipython",
    "version": 3
   },
   "file_extension": ".py",
   "mimetype": "text/x-python",
   "name": "python",
   "nbconvert_exporter": "python",
   "pygments_lexer": "ipython3",
   "version": "3.6.8"
  }
 },
 "nbformat": 4,
 "nbformat_minor": 5
}
