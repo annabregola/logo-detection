{
 "cells": [
  {
   "cell_type": "markdown",
   "id": "1a2d129f",
   "metadata": {},
   "source": [
    "# Training the model\n",
    "\n",
    "In this notebook we train YOLOv5 on our customed dataset. \n",
    "\n",
    "As we already did the training, it is possible to simply use the resulting weights instead and avoid retraining the whole model"
   ]
  },
  {
   "cell_type": "code",
   "execution_count": 1,
   "id": "6b7c1fb1",
   "metadata": {},
   "outputs": [],
   "source": [
    "import pandas as pd\n",
    "import numpy as np\n",
    "import os"
   ]
  },
  {
   "cell_type": "markdown",
   "id": "fcb3fb89",
   "metadata": {},
   "source": [
    "## Cloning the repository"
   ]
  },
  {
   "cell_type": "code",
   "execution_count": 3,
   "id": "44cc7326",
   "metadata": {},
   "outputs": [
    {
     "name": "stdout",
     "output_type": "stream",
     "text": [
      "Cloning into 'yolov5'...\n",
      "remote: Enumerating objects: 10064, done.\u001b[K\n",
      "remote: Counting objects: 100% (21/21), done.\u001b[K\n",
      "remote: Compressing objects: 100% (13/13), done.\u001b[K\n",
      "remote: Total 10064 (delta 11), reused 16 (delta 8), pack-reused 10043\u001b[K\n",
      "Receiving objects: 100% (10064/10064), 10.41 MiB | 1.98 MiB/s, done.\n",
      "Resolving deltas: 100% (6974/6974), done.\n"
     ]
    }
   ],
   "source": [
    "!git clone https://github.com/ultralytics/yolov5"
   ]
  },
  {
   "cell_type": "code",
   "execution_count": 4,
   "id": "1a45a932",
   "metadata": {
    "scrolled": true
   },
   "outputs": [
    {
     "name": "stdout",
     "output_type": "stream",
     "text": [
      "Requirement already satisfied: matplotlib>=3.2.2 in /home/3149796/amplifon/.env/lib/python3.6/site-packages (from -r yolov5/requirements.txt (line 4)) (3.3.4)\n",
      "Requirement already satisfied: numpy>=1.18.5 in /home/3149796/amplifon/.env/lib/python3.6/site-packages (from -r yolov5/requirements.txt (line 5)) (1.19.5)\n",
      "Requirement already satisfied: opencv-python>=4.1.2 in /home/3149796/amplifon/.env/lib/python3.6/site-packages (from -r yolov5/requirements.txt (line 6)) (4.5.3.56)\n",
      "Requirement already satisfied: Pillow>=7.1.2 in /home/3149796/amplifon/.env/lib/python3.6/site-packages (from -r yolov5/requirements.txt (line 7)) (8.2.0)\n",
      "Requirement already satisfied: PyYAML>=5.3.1 in /home/3149796/amplifon/.env/lib/python3.6/site-packages (from -r yolov5/requirements.txt (line 8)) (6.0)\n",
      "Requirement already satisfied: requests>=2.23.0 in /home/3149796/amplifon/.env/lib/python3.6/site-packages (from -r yolov5/requirements.txt (line 9)) (2.25.1)\n",
      "Requirement already satisfied: scipy>=1.4.1 in /home/3149796/amplifon/.env/lib/python3.6/site-packages (from -r yolov5/requirements.txt (line 10)) (1.5.4)\n",
      "Requirement already satisfied: torch>=1.7.0 in /home/3149796/amplifon/.env/lib/python3.6/site-packages (from -r yolov5/requirements.txt (line 11)) (1.10.0)\n",
      "Requirement already satisfied: torchvision>=0.8.1 in /home/3149796/amplifon/.env/lib/python3.6/site-packages (from -r yolov5/requirements.txt (line 12)) (0.11.1)\n",
      "Requirement already satisfied: tqdm>=4.41.0 in /home/3149796/amplifon/.env/lib/python3.6/site-packages (from -r yolov5/requirements.txt (line 13)) (4.60.0)\n",
      "Requirement already satisfied: tensorboard>=2.4.1 in /home/3149796/amplifon/.env/lib/python3.6/site-packages (from -r yolov5/requirements.txt (line 16)) (2.6.0)\n",
      "Requirement already satisfied: pandas>=1.1.4 in /home/3149796/amplifon/.env/lib/python3.6/site-packages (from -r yolov5/requirements.txt (line 20)) (1.1.5)\n",
      "Requirement already satisfied: seaborn>=0.11.0 in /home/3149796/amplifon/.env/lib/python3.6/site-packages (from -r yolov5/requirements.txt (line 21)) (0.11.2)\n",
      "Requirement already satisfied: thop in /home/3149796/amplifon/.env/lib/python3.6/site-packages (from -r yolov5/requirements.txt (line 36)) (0.0.31.post2005241907)\n",
      "Requirement already satisfied: pyparsing!=2.0.4,!=2.1.2,!=2.1.6,>=2.0.3 in /home/3149796/amplifon/.env/lib/python3.6/site-packages (from matplotlib>=3.2.2->-r yolov5/requirements.txt (line 4)) (2.4.7)\n",
      "Requirement already satisfied: python-dateutil>=2.1 in /home/3149796/amplifon/.env/lib/python3.6/site-packages (from matplotlib>=3.2.2->-r yolov5/requirements.txt (line 4)) (2.8.1)\n",
      "Requirement already satisfied: cycler>=0.10 in /home/3149796/amplifon/.env/lib/python3.6/site-packages (from matplotlib>=3.2.2->-r yolov5/requirements.txt (line 4)) (0.10.0)\n",
      "Requirement already satisfied: kiwisolver>=1.0.1 in /home/3149796/amplifon/.env/lib/python3.6/site-packages (from matplotlib>=3.2.2->-r yolov5/requirements.txt (line 4)) (1.3.1)\n",
      "Requirement already satisfied: certifi>=2017.4.17 in /home/3149796/amplifon/.env/lib/python3.6/site-packages (from requests>=2.23.0->-r yolov5/requirements.txt (line 9)) (2021.5.30)\n",
      "Requirement already satisfied: urllib3<1.27,>=1.21.1 in /home/3149796/amplifon/.env/lib/python3.6/site-packages (from requests>=2.23.0->-r yolov5/requirements.txt (line 9)) (1.26.6)\n",
      "Requirement already satisfied: idna<3,>=2.5 in /home/3149796/amplifon/.env/lib/python3.6/site-packages (from requests>=2.23.0->-r yolov5/requirements.txt (line 9)) (2.10)\n",
      "Requirement already satisfied: chardet<5,>=3.0.2 in /home/3149796/amplifon/.env/lib/python3.6/site-packages (from requests>=2.23.0->-r yolov5/requirements.txt (line 9)) (4.0.0)\n",
      "Requirement already satisfied: dataclasses in /home/3149796/amplifon/.env/lib/python3.6/site-packages (from torch>=1.7.0->-r yolov5/requirements.txt (line 11)) (0.8)\n",
      "Requirement already satisfied: typing-extensions in /home/3149796/amplifon/.env/lib/python3.6/site-packages (from torch>=1.7.0->-r yolov5/requirements.txt (line 11)) (3.7.4.3)\n",
      "Requirement already satisfied: werkzeug>=0.11.15 in /home/3149796/amplifon/.env/lib/python3.6/site-packages (from tensorboard>=2.4.1->-r yolov5/requirements.txt (line 16)) (2.0.1)\n",
      "Requirement already satisfied: absl-py>=0.4 in /home/3149796/amplifon/.env/lib/python3.6/site-packages (from tensorboard>=2.4.1->-r yolov5/requirements.txt (line 16)) (0.15.0)\n",
      "Requirement already satisfied: protobuf>=3.6.0 in /home/3149796/amplifon/.env/lib/python3.6/site-packages (from tensorboard>=2.4.1->-r yolov5/requirements.txt (line 16)) (3.19.1)\n",
      "Requirement already satisfied: google-auth<2,>=1.6.3 in /home/3149796/amplifon/.env/lib/python3.6/site-packages (from tensorboard>=2.4.1->-r yolov5/requirements.txt (line 16)) (1.35.0)\n",
      "Requirement already satisfied: wheel>=0.26 in /home/3149796/amplifon/.env/lib/python3.6/site-packages (from tensorboard>=2.4.1->-r yolov5/requirements.txt (line 16)) (0.37.0)\n",
      "Requirement already satisfied: grpcio>=1.24.3 in /home/3149796/amplifon/.env/lib/python3.6/site-packages (from tensorboard>=2.4.1->-r yolov5/requirements.txt (line 16)) (1.41.1)\n",
      "Requirement already satisfied: google-auth-oauthlib<0.5,>=0.4.1 in /home/3149796/amplifon/.env/lib/python3.6/site-packages (from tensorboard>=2.4.1->-r yolov5/requirements.txt (line 16)) (0.4.6)\n",
      "Requirement already satisfied: tensorboard-plugin-wit>=1.6.0 in /home/3149796/amplifon/.env/lib/python3.6/site-packages (from tensorboard>=2.4.1->-r yolov5/requirements.txt (line 16)) (1.8.0)\n",
      "Requirement already satisfied: setuptools>=41.0.0 in /home/3149796/amplifon/.env/lib/python3.6/site-packages (from tensorboard>=2.4.1->-r yolov5/requirements.txt (line 16)) (41.2.0)\n",
      "Requirement already satisfied: markdown>=2.6.8 in /home/3149796/amplifon/.env/lib/python3.6/site-packages (from tensorboard>=2.4.1->-r yolov5/requirements.txt (line 16)) (3.3.4)\n",
      "Requirement already satisfied: tensorboard-data-server<0.7.0,>=0.6.0 in /home/3149796/amplifon/.env/lib/python3.6/site-packages (from tensorboard>=2.4.1->-r yolov5/requirements.txt (line 16)) (0.6.1)\n",
      "Requirement already satisfied: pytz>=2017.2 in /home/3149796/amplifon/.env/lib/python3.6/site-packages (from pandas>=1.1.4->-r yolov5/requirements.txt (line 20)) (2021.1)\n",
      "Requirement already satisfied: six in /home/3149796/amplifon/.env/lib/python3.6/site-packages (from absl-py>=0.4->tensorboard>=2.4.1->-r yolov5/requirements.txt (line 16)) (1.15.0)\n",
      "Requirement already satisfied: pyasn1-modules>=0.2.1 in /home/3149796/amplifon/.env/lib/python3.6/site-packages (from google-auth<2,>=1.6.3->tensorboard>=2.4.1->-r yolov5/requirements.txt (line 16)) (0.2.8)\n",
      "Requirement already satisfied: rsa<5,>=3.1.4 in /home/3149796/amplifon/.env/lib/python3.6/site-packages (from google-auth<2,>=1.6.3->tensorboard>=2.4.1->-r yolov5/requirements.txt (line 16)) (4.7.2)\n",
      "Requirement already satisfied: cachetools<5.0,>=2.0.0 in /home/3149796/amplifon/.env/lib/python3.6/site-packages (from google-auth<2,>=1.6.3->tensorboard>=2.4.1->-r yolov5/requirements.txt (line 16)) (4.2.4)\n",
      "Requirement already satisfied: requests-oauthlib>=0.7.0 in /home/3149796/amplifon/.env/lib/python3.6/site-packages (from google-auth-oauthlib<0.5,>=0.4.1->tensorboard>=2.4.1->-r yolov5/requirements.txt (line 16)) (1.3.0)\n",
      "Requirement already satisfied: importlib-metadata in /home/3149796/amplifon/.env/lib/python3.6/site-packages (from markdown>=2.6.8->tensorboard>=2.4.1->-r yolov5/requirements.txt (line 16)) (4.0.1)\n",
      "Requirement already satisfied: pyasn1<0.5.0,>=0.4.6 in /home/3149796/amplifon/.env/lib/python3.6/site-packages (from pyasn1-modules>=0.2.1->google-auth<2,>=1.6.3->tensorboard>=2.4.1->-r yolov5/requirements.txt (line 16)) (0.4.8)\n",
      "Requirement already satisfied: oauthlib>=3.0.0 in /home/3149796/amplifon/.env/lib/python3.6/site-packages (from requests-oauthlib>=0.7.0->google-auth-oauthlib<0.5,>=0.4.1->tensorboard>=2.4.1->-r yolov5/requirements.txt (line 16)) (3.1.1)\n",
      "Requirement already satisfied: zipp>=0.5 in /home/3149796/amplifon/.env/lib/python3.6/site-packages (from importlib-metadata->markdown>=2.6.8->tensorboard>=2.4.1->-r yolov5/requirements.txt (line 16)) (3.4.1)\n"
     ]
    }
   ],
   "source": [
    "!pip install -r yolov5/requirements.txt"
   ]
  },
  {
   "cell_type": "code",
   "execution_count": 2,
   "id": "2fd008e6",
   "metadata": {},
   "outputs": [],
   "source": [
    "import torch\n",
    "from IPython.display import Image  # for displaying images\n",
    "import os \n",
    "import random\n",
    "import shutil\n",
    "from sklearn.model_selection import train_test_split\n",
    "import xml.etree.ElementTree as ET\n",
    "from xml.dom import minidom\n",
    "from tqdm import tqdm\n",
    "from PIL import Image, ImageDraw\n",
    "import numpy as np\n",
    "#import matplotlib.pyplot as plt\n",
    "from roboflow import Roboflow\n",
    "import matplotlib.pyplot as plt\n",
    "\n",
    "random.seed(108)"
   ]
  },
  {
   "cell_type": "markdown",
   "id": "44ac7d5b",
   "metadata": {},
   "source": [
    "## Start the training"
   ]
  },
  {
   "cell_type": "code",
   "execution_count": null,
   "id": "2c39ca3a",
   "metadata": {},
   "outputs": [],
   "source": [
    "!python yolov5/train.py --img 608 --batch 8 --epochs 50 --data yolov5/data/data.yaml --weights yolov5s.pt --device 1"
   ]
  }
 ],
 "metadata": {
  "kernelspec": {
   "display_name": "Python 3",
   "language": "python",
   "name": "python3"
  },
  "language_info": {
   "codemirror_mode": {
    "name": "ipython",
    "version": 3
   },
   "file_extension": ".py",
   "mimetype": "text/x-python",
   "name": "python",
   "nbconvert_exporter": "python",
   "pygments_lexer": "ipython3",
   "version": "3.8.10"
  }
 },
 "nbformat": 4,
 "nbformat_minor": 5
}
