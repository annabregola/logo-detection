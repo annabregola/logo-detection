{
 "cells": [
  {
   "cell_type": "code",
   "execution_count": 2,
   "id": "4ac0c0f8",
   "metadata": {},
   "outputs": [],
   "source": [
    "import pandas as pd\n",
    "import numpy as np"
   ]
  },
  {
   "cell_type": "markdown",
   "id": "50a980a3",
   "metadata": {},
   "source": [
    "This function was used in order to prepare the annotation file which was used for Roboflow. Pictures which were not considered for the detection task, were considered as noise and hence with no annotation (empty file .txt)"
   ]
  },
  {
   "cell_type": "code",
   "execution_count": null,
   "id": "f5843655",
   "metadata": {},
   "outputs": [],
   "source": [
    "def RoboflowPrep(logos = [\"Nike\", \"Adidas\", \"UnderArmour\", \"Puma\", \"TheNorthFace\"]):\n",
    "    annot = pd.read_csv(\"annot_train.csv\")\n",
    "    pattern = \"|\".join(logos)\n",
    "    mask = annot_try[\"class\"].str.contains(pattern)\n",
    "    annot_try = annot_try[mask]\n",
    "    name = \"./annot\" + str(len(logos)) +\".csv\"\n",
    "    annot_try.to_csv(name, index = False)"
   ]
  },
  {
   "cell_type": "code",
   "execution_count": null,
   "id": "d31c6581",
   "metadata": {},
   "outputs": [],
   "source": [
    "RoboflowPrep()"
   ]
  }
 ],
 "metadata": {
  "kernelspec": {
   "display_name": "Python 3",
   "language": "python",
   "name": "python3"
  },
  "language_info": {
   "codemirror_mode": {
    "name": "ipython",
    "version": 3
   },
   "file_extension": ".py",
   "mimetype": "text/x-python",
   "name": "python",
   "nbconvert_exporter": "python",
   "pygments_lexer": "ipython3",
   "version": "3.8.10"
  }
 },
 "nbformat": 4,
 "nbformat_minor": 5
}
