{
 "cells": [
  {
   "cell_type": "code",
   "execution_count": 3,
   "id": "bb12f8ba",
   "metadata": {},
   "outputs": [],
   "source": [
    "import pandas as pd\n",
    "import numpy as np\n",
    "import os"
   ]
  },
  {
   "cell_type": "code",
   "execution_count": 20,
   "id": "cd95ebf4",
   "metadata": {},
   "outputs": [],
   "source": [
    "base = '/home/3149796/amplifon/Full model/'\n",
    "paths = ['data_yolov5/extra_to_move/trainextra2/labels/', 'data_yolov5/extra_to_move/testextra2/labels/', 'data_yolov5/extra_to_move/valextra2/labels/']\n",
    "paths = ['data_yolov5/train/labels/', 'data_yolov5/test/labels/', 'data_yolov5/val/labels/']\n",
    "annot = pd.read_csv('final_annot.csv')"
   ]
  },
  {
   "cell_type": "code",
   "execution_count": 21,
   "id": "84446ec8",
   "metadata": {},
   "outputs": [],
   "source": [
    "df = annot.copy()"
   ]
  },
  {
   "cell_type": "code",
   "execution_count": 22,
   "id": "4564d0c0",
   "metadata": {},
   "outputs": [],
   "source": [
    "l = []\n",
    "for path in paths:\n",
    "    for i in os.listdir(base + path):\n",
    "        l.append(base + path + i)"
   ]
  },
  {
   "cell_type": "code",
   "execution_count": 33,
   "id": "1320b5f3",
   "metadata": {},
   "outputs": [],
   "source": [
    "dic = {\"Nike\":0,\n",
    "      \"Adidas\":1,\n",
    "      \"Puma\":2,\n",
    "      \"TheNorthFace\":3,\n",
    "      \"UnderArmour\":4,\n",
    "      \"AppleInc\":5,\n",
    "      \"Starbucks\":6,\n",
    "      \"CocaCola\":7,\n",
    "      \"NFL\":8,\n",
    "      \"MercedesBenz\":9,\n",
    "      \"HardRockCafe\":10\n",
    "      }"
   ]
  },
  {
   "cell_type": "code",
   "execution_count": 35,
   "id": "a6e9a8cf",
   "metadata": {},
   "outputs": [],
   "source": [
    "for i in l:\n",
    "    with open(i, \"r+\") as f:\n",
    "        lines = f.readlines()\n",
    "        #this is the class lines[0][0]\n",
    "        if len(lines) == 0:\n",
    "            f.close()\n",
    "            continue\n",
    "\n",
    "        if lines[0][0] in numbs:\n",
    "            if \"train\" in i:\n",
    "                to_remove = len(base + paths[0])\n",
    "                filename_ = i[to_remove:]\n",
    "                filename, _ = filename_.split(\"_jpg.rf.\")\n",
    "                filename += \".jpg\"\n",
    "\n",
    "\n",
    "            if \"test\" in i:\n",
    "                to_remove = len(base + paths[1])\n",
    "                filename_ = i[to_remove:]\n",
    "                filename, _ = filename_.split(\"_jpg.rf.\")\n",
    "                filename += \".jpg\"\n",
    "\n",
    "\n",
    "            if \"val\" in i:\n",
    "                to_remove = len(base + paths[2])\n",
    "                filename_ = i[to_remove:]\n",
    "                filename, _ = filename_.split(\"_jpg.rf.\")\n",
    "                filename += \".jpg\"\n",
    "\n",
    "            mine = df[df[\"photo_filename\"] == filename]\n",
    "            \n",
    "            if mine is None:\n",
    "                raise Exception(\"Photo_filename does not exist in table\")\n",
    "            cl = mine[\"class\"].to_string().split(\"    \")[1].strip()\n",
    "            if \n",
    "            txt = str(dic[cl]) + \" \" + lines[0][1:].strip()\n",
    "            f.truncate(0)\n",
    "            f.seek(0)\n",
    "            f.write(txt)\n",
    "            f.close()"
   ]
  }
 ],
 "metadata": {
  "kernelspec": {
   "display_name": "Python 3",
   "language": "python",
   "name": "python3"
  },
  "language_info": {
   "codemirror_mode": {
    "name": "ipython",
    "version": 3
   },
   "file_extension": ".py",
   "mimetype": "text/x-python",
   "name": "python",
   "nbconvert_exporter": "python",
   "pygments_lexer": "ipython3",
   "version": "3.8.10"
  }
 },
 "nbformat": 4,
 "nbformat_minor": 5
}
