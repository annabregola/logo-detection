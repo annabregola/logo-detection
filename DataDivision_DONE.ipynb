{
 "cells": [
  {
   "cell_type": "markdown",
   "id": "c1370463",
   "metadata": {},
   "source": [
    "# Division of Data into folders"
   ]
  },
  {
   "cell_type": "markdown",
   "id": "e73d771e",
   "metadata": {},
   "source": [
    "In order to clean data and not to waste any time on the virtual machine, we decided to split the data in order to download it locally and clean it manually through a python code that you can find in \"PreProcessing-LOCAL\"."
   ]
  },
  {
   "cell_type": "code",
   "execution_count": 1,
   "id": "f31a3e8a",
   "metadata": {},
   "outputs": [],
   "source": [
    "import pandas as pd\n",
    "import numpy as np\n",
    "import os"
   ]
  },
  {
   "cell_type": "code",
   "execution_count": 5,
   "id": "639b32eb",
   "metadata": {},
   "outputs": [],
   "source": [
    "base = \"/home/labuser/data/\"\n",
    "seg = [\"test/\",\"train/\", \"val/\"]"
   ]
  },
  {
   "cell_type": "markdown",
   "id": "71209a68",
   "metadata": {},
   "source": [
    "In order to do so, we firstly created a dataframe that list all the content inside the directory."
   ]
  },
  {
   "cell_type": "code",
   "execution_count": 15,
   "id": "9038f7aa",
   "metadata": {},
   "outputs": [],
   "source": [
    "## create a dictionary with all of the pictures in each path\n",
    "\n",
    "Felix = base + \"Felix\"\n",
    "Angelo = base + \"Angelo\"\n",
    "them_all = [s for s in seg]\n",
    "\n",
    "content_list = {}\n",
    "for index, val in enumerate(them_all):\n",
    "    path = os.path.join(base, val)\n",
    "    content_list[ them_all[index] ] = os.listdir(path)"
   ]
  },
  {
   "cell_type": "code",
   "execution_count": 16,
   "id": "090acda1",
   "metadata": {},
   "outputs": [],
   "source": [
    "## create a dataframe\n",
    "\n",
    "df = pd.DataFrame.from_dict(content_list, orient = 'index').T\n",
    "df_tot = pd.DataFrame(columns = [\"path\", \"images\"])\n",
    "for index in df.columns:\n",
    "    images = df.loc[:,index].dropna()\n",
    "    p = [str(base + index)]\n",
    "    path = p * len(images)\n",
    "    trash = pd.DataFrame([np.array(path).T, images]).T\n",
    "    trash.columns = [\"path\", \"images\"]\n",
    "    df_tot = pd.concat([df_tot, trash])\n",
    "df_tot.reset_index(inplace = True, drop = True)\n",
    "del df\n",
    "del trash"
   ]
  },
  {
   "cell_type": "code",
   "execution_count": 17,
   "id": "2bb49611",
   "metadata": {},
   "outputs": [
    {
     "data": {
      "text/html": [
       "<div>\n",
       "<style scoped>\n",
       "    .dataframe tbody tr th:only-of-type {\n",
       "        vertical-align: middle;\n",
       "    }\n",
       "\n",
       "    .dataframe tbody tr th {\n",
       "        vertical-align: top;\n",
       "    }\n",
       "\n",
       "    .dataframe thead th {\n",
       "        text-align: right;\n",
       "    }\n",
       "</style>\n",
       "<table border=\"1\" class=\"dataframe\">\n",
       "  <thead>\n",
       "    <tr style=\"text-align: right;\">\n",
       "      <th></th>\n",
       "      <th>path</th>\n",
       "      <th>images</th>\n",
       "    </tr>\n",
       "  </thead>\n",
       "  <tbody>\n",
       "    <tr>\n",
       "      <th>0</th>\n",
       "      <td>/home/labuser/data/test/</td>\n",
       "      <td>miami_1474740363076235547_20170320_jpg.rf.1403...</td>\n",
       "    </tr>\n",
       "    <tr>\n",
       "      <th>1</th>\n",
       "      <td>/home/labuser/data/test/</td>\n",
       "      <td>chicago_1412129200713944467_20161224_jpg.rf.3f...</td>\n",
       "    </tr>\n",
       "    <tr>\n",
       "      <th>2</th>\n",
       "      <td>/home/labuser/data/test/</td>\n",
       "      <td>la_2017_1538453394740685070_20170616_jpg.rf.00...</td>\n",
       "    </tr>\n",
       "    <tr>\n",
       "      <th>3</th>\n",
       "      <td>/home/labuser/data/test/</td>\n",
       "      <td>la_1775439579873339338_20180509_jpg.rf.47d32f5...</td>\n",
       "    </tr>\n",
       "    <tr>\n",
       "      <th>4</th>\n",
       "      <td>/home/labuser/data/test/</td>\n",
       "      <td>charlotte_1567835128969198694_20170727_jpg.rf....</td>\n",
       "    </tr>\n",
       "    <tr>\n",
       "      <th>...</th>\n",
       "      <td>...</td>\n",
       "      <td>...</td>\n",
       "    </tr>\n",
       "    <tr>\n",
       "      <th>100108</th>\n",
       "      <td>/home/labuser/data/val/</td>\n",
       "      <td>phoenix_1651657581485454673_20171119_jpg.rf.a3...</td>\n",
       "    </tr>\n",
       "    <tr>\n",
       "      <th>100109</th>\n",
       "      <td>/home/labuser/data/val/</td>\n",
       "      <td>chicago_1246121943149743388_20160509_jpg.rf.52...</td>\n",
       "    </tr>\n",
       "    <tr>\n",
       "      <th>100110</th>\n",
       "      <td>/home/labuser/data/val/</td>\n",
       "      <td>chicago_1781339885962183707_20180517_jpg.rf.e1...</td>\n",
       "    </tr>\n",
       "    <tr>\n",
       "      <th>100111</th>\n",
       "      <td>/home/labuser/data/val/</td>\n",
       "      <td>phoenix_1604816812850482275_20170916_jpg.rf.3b...</td>\n",
       "    </tr>\n",
       "    <tr>\n",
       "      <th>100112</th>\n",
       "      <td>/home/labuser/data/val/</td>\n",
       "      <td>houston_1795963601293231456_20180606_jpg.rf.cd...</td>\n",
       "    </tr>\n",
       "  </tbody>\n",
       "</table>\n",
       "<p>100113 rows × 2 columns</p>\n",
       "</div>"
      ],
      "text/plain": [
       "                            path  \\\n",
       "0       /home/labuser/data/test/   \n",
       "1       /home/labuser/data/test/   \n",
       "2       /home/labuser/data/test/   \n",
       "3       /home/labuser/data/test/   \n",
       "4       /home/labuser/data/test/   \n",
       "...                          ...   \n",
       "100108   /home/labuser/data/val/   \n",
       "100109   /home/labuser/data/val/   \n",
       "100110   /home/labuser/data/val/   \n",
       "100111   /home/labuser/data/val/   \n",
       "100112   /home/labuser/data/val/   \n",
       "\n",
       "                                                   images  \n",
       "0       miami_1474740363076235547_20170320_jpg.rf.1403...  \n",
       "1       chicago_1412129200713944467_20161224_jpg.rf.3f...  \n",
       "2       la_2017_1538453394740685070_20170616_jpg.rf.00...  \n",
       "3       la_1775439579873339338_20180509_jpg.rf.47d32f5...  \n",
       "4       charlotte_1567835128969198694_20170727_jpg.rf....  \n",
       "...                                                   ...  \n",
       "100108  phoenix_1651657581485454673_20171119_jpg.rf.a3...  \n",
       "100109  chicago_1246121943149743388_20160509_jpg.rf.52...  \n",
       "100110  chicago_1781339885962183707_20180517_jpg.rf.e1...  \n",
       "100111  phoenix_1604816812850482275_20170916_jpg.rf.3b...  \n",
       "100112  houston_1795963601293231456_20180606_jpg.rf.cd...  \n",
       "\n",
       "[100113 rows x 2 columns]"
      ]
     },
     "execution_count": 17,
     "metadata": {},
     "output_type": "execute_result"
    }
   ],
   "source": [
    "df_tot"
   ]
  },
  {
   "cell_type": "markdown",
   "id": "af44c9a4",
   "metadata": {},
   "source": [
    "The dataset is then splitted into 2. This division is done only for mandatory logos. The choice logos division was performed directly through the terminal."
   ]
  },
  {
   "cell_type": "code",
   "execution_count": 21,
   "id": "98cef3e2",
   "metadata": {},
   "outputs": [],
   "source": [
    "df_Angelo = df_tot[:100113//2]\n",
    "df_Felix = df_tot[100113//2:]"
   ]
  },
  {
   "cell_type": "code",
   "execution_count": 29,
   "id": "f6048be9",
   "metadata": {},
   "outputs": [],
   "source": [
    "df_Felix.reset_index(inplace = True, drop = True)"
   ]
  },
  {
   "cell_type": "code",
   "execution_count": 30,
   "id": "4bb292d8",
   "metadata": {},
   "outputs": [
    {
     "data": {
      "text/html": [
       "<div>\n",
       "<style scoped>\n",
       "    .dataframe tbody tr th:only-of-type {\n",
       "        vertical-align: middle;\n",
       "    }\n",
       "\n",
       "    .dataframe tbody tr th {\n",
       "        vertical-align: top;\n",
       "    }\n",
       "\n",
       "    .dataframe thead th {\n",
       "        text-align: right;\n",
       "    }\n",
       "</style>\n",
       "<table border=\"1\" class=\"dataframe\">\n",
       "  <thead>\n",
       "    <tr style=\"text-align: right;\">\n",
       "      <th></th>\n",
       "      <th>path</th>\n",
       "      <th>images</th>\n",
       "    </tr>\n",
       "  </thead>\n",
       "  <tbody>\n",
       "    <tr>\n",
       "      <th>0</th>\n",
       "      <td>/home/labuser/data/train/</td>\n",
       "      <td>miami_1568821953480162222_20170728_jpg.rf.d40e...</td>\n",
       "    </tr>\n",
       "    <tr>\n",
       "      <th>1</th>\n",
       "      <td>/home/labuser/data/train/</td>\n",
       "      <td>chicago_1154043427006632407_20160103_jpg.rf.66...</td>\n",
       "    </tr>\n",
       "    <tr>\n",
       "      <th>2</th>\n",
       "      <td>/home/labuser/data/train/</td>\n",
       "      <td>la_1254404847185329128_20160520_jpg.rf.8577830...</td>\n",
       "    </tr>\n",
       "    <tr>\n",
       "      <th>3</th>\n",
       "      <td>/home/labuser/data/train/</td>\n",
       "      <td>miami_1428436396154520957_20170115_jpg.rf.a3fd...</td>\n",
       "    </tr>\n",
       "    <tr>\n",
       "      <th>4</th>\n",
       "      <td>/home/labuser/data/train/</td>\n",
       "      <td>london_1846437451012514134_20180815_jpg.rf.f3b...</td>\n",
       "    </tr>\n",
       "    <tr>\n",
       "      <th>...</th>\n",
       "      <td>...</td>\n",
       "      <td>...</td>\n",
       "    </tr>\n",
       "    <tr>\n",
       "      <th>50052</th>\n",
       "      <td>/home/labuser/data/val/</td>\n",
       "      <td>phoenix_1651657581485454673_20171119_jpg.rf.a3...</td>\n",
       "    </tr>\n",
       "    <tr>\n",
       "      <th>50053</th>\n",
       "      <td>/home/labuser/data/val/</td>\n",
       "      <td>chicago_1246121943149743388_20160509_jpg.rf.52...</td>\n",
       "    </tr>\n",
       "    <tr>\n",
       "      <th>50054</th>\n",
       "      <td>/home/labuser/data/val/</td>\n",
       "      <td>chicago_1781339885962183707_20180517_jpg.rf.e1...</td>\n",
       "    </tr>\n",
       "    <tr>\n",
       "      <th>50055</th>\n",
       "      <td>/home/labuser/data/val/</td>\n",
       "      <td>phoenix_1604816812850482275_20170916_jpg.rf.3b...</td>\n",
       "    </tr>\n",
       "    <tr>\n",
       "      <th>50056</th>\n",
       "      <td>/home/labuser/data/val/</td>\n",
       "      <td>houston_1795963601293231456_20180606_jpg.rf.cd...</td>\n",
       "    </tr>\n",
       "  </tbody>\n",
       "</table>\n",
       "<p>50057 rows × 2 columns</p>\n",
       "</div>"
      ],
      "text/plain": [
       "                            path  \\\n",
       "0      /home/labuser/data/train/   \n",
       "1      /home/labuser/data/train/   \n",
       "2      /home/labuser/data/train/   \n",
       "3      /home/labuser/data/train/   \n",
       "4      /home/labuser/data/train/   \n",
       "...                          ...   \n",
       "50052    /home/labuser/data/val/   \n",
       "50053    /home/labuser/data/val/   \n",
       "50054    /home/labuser/data/val/   \n",
       "50055    /home/labuser/data/val/   \n",
       "50056    /home/labuser/data/val/   \n",
       "\n",
       "                                                  images  \n",
       "0      miami_1568821953480162222_20170728_jpg.rf.d40e...  \n",
       "1      chicago_1154043427006632407_20160103_jpg.rf.66...  \n",
       "2      la_1254404847185329128_20160520_jpg.rf.8577830...  \n",
       "3      miami_1428436396154520957_20170115_jpg.rf.a3fd...  \n",
       "4      london_1846437451012514134_20180815_jpg.rf.f3b...  \n",
       "...                                                  ...  \n",
       "50052  phoenix_1651657581485454673_20171119_jpg.rf.a3...  \n",
       "50053  chicago_1246121943149743388_20160509_jpg.rf.52...  \n",
       "50054  chicago_1781339885962183707_20180517_jpg.rf.e1...  \n",
       "50055  phoenix_1604816812850482275_20170916_jpg.rf.3b...  \n",
       "50056  houston_1795963601293231456_20180606_jpg.rf.cd...  \n",
       "\n",
       "[50057 rows x 2 columns]"
      ]
     },
     "execution_count": 30,
     "metadata": {},
     "output_type": "execute_result"
    }
   ],
   "source": [
    "df_Felix"
   ]
  },
  {
   "cell_type": "code",
   "execution_count": 27,
   "id": "1ed93269",
   "metadata": {},
   "outputs": [
    {
     "data": {
      "text/plain": [
       "((50056, 2), (50057, 2))"
      ]
     },
     "execution_count": 27,
     "metadata": {},
     "output_type": "execute_result"
    }
   ],
   "source": [
    "df_Angelo.shape, df_Felix.shape"
   ]
  },
  {
   "cell_type": "code",
   "execution_count": 1,
   "id": "949439c8",
   "metadata": {},
   "outputs": [],
   "source": [
    "#os.mkdir(Angelo)\n",
    "#os.mkdir(Felix)"
   ]
  },
  {
   "cell_type": "code",
   "execution_count": 23,
   "id": "3764179d",
   "metadata": {},
   "outputs": [
    {
     "name": "stdout",
     "output_type": "stream",
     "text": [
      "/home/labuser/data/Angelo\n"
     ]
    }
   ],
   "source": [
    "print(Angelo)"
   ]
  },
  {
   "cell_type": "code",
   "execution_count": 24,
   "id": "eda915d0",
   "metadata": {},
   "outputs": [],
   "source": [
    "import shutil\n",
    "\n",
    "for i in range(df_Angelo.shape[0]):\n",
    "    path = df_Angelo[\"path\"][i] + df_Angelo[\"images\"][i]\n",
    "    shutil.copy(path, Angelo)"
   ]
  },
  {
   "cell_type": "code",
   "execution_count": 25,
   "id": "ceb8f6af",
   "metadata": {},
   "outputs": [
    {
     "name": "stdout",
     "output_type": "stream",
     "text": [
      "\r\n",
      "zip error: Invalid command arguments (nothing to select from)\r\n"
     ]
    }
   ],
   "source": [
    "! zip -R /home/labuser/data/Angelo"
   ]
  },
  {
   "cell_type": "code",
   "execution_count": 31,
   "id": "0e9d6290",
   "metadata": {},
   "outputs": [],
   "source": [
    "for i in range(df_Felix.shape[0]):\n",
    "    path = df_Felix[\"path\"][i] + df_Felix[\"images\"][i]\n",
    "    shutil.copy(path, Felix)"
   ]
  },
  {
   "cell_type": "code",
   "execution_count": 32,
   "id": "776c0e0d",
   "metadata": {},
   "outputs": [
    {
     "name": "stdout",
     "output_type": "stream",
     "text": [
      "\r\n",
      "zip error: Nothing to do! (Felix.zip)\r\n"
     ]
    }
   ],
   "source": [
    "! zip -R Felix.zip /home/labuser/data/Felix"
   ]
  },
  {
   "cell_type": "code",
   "execution_count": null,
   "id": "b3876093",
   "metadata": {},
   "outputs": [],
   "source": []
  }
 ],
 "metadata": {
  "kernelspec": {
   "display_name": "Python 3",
   "language": "python",
   "name": "python3"
  },
  "language_info": {
   "codemirror_mode": {
    "name": "ipython",
    "version": 3
   },
   "file_extension": ".py",
   "mimetype": "text/x-python",
   "name": "python",
   "nbconvert_exporter": "python",
   "pygments_lexer": "ipython3",
   "version": "3.8.10"
  }
 },
 "nbformat": 4,
 "nbformat_minor": 5
}
